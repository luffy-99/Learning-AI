{
 "cells": [
  {
   "cell_type": "code",
   "execution_count": 1,
   "metadata": {},
   "outputs": [
    {
     "name": "stderr",
     "output_type": "stream",
     "text": [
      "Using TensorFlow backend.\n"
     ]
    }
   ],
   "source": [
    "import numpy as np\n",
    "import matplotlib.pyplot as plt\n",
    "from keras.models import Sequential\n",
    "from keras.layers import Dense, Dropout, Activation, Flatten\n",
    "from keras.layers import Conv2D, MaxPooling2D\n",
    "from keras.utils import np_utils\n",
    "from keras.datasets import mnist"
   ]
  },
  {
   "cell_type": "markdown",
   "metadata": {},
   "source": [
    "Load dữ liệu từ MNIST dataset, bao gồm 60.000 training set và 10.000 test set. Sau đó chia bộ traning set thành 2: 50.000 cho training set và 10.000 dữ liệu cho validation set."
   ]
  },
  {
   "cell_type": "code",
   "execution_count": 16,
   "metadata": {},
   "outputs": [
    {
     "name": "stdout",
     "output_type": "stream",
     "text": [
      "(60000, 28, 28)\n",
      "(50000, 28, 28)\n"
     ]
    }
   ],
   "source": [
    "# 2. Load dữ liệu MNIST\n",
    "(x_train, y_train), (x_test, y_test) = mnist.load_data()\n",
    "print(x_train.shape)\n",
    "x_val, y_val = x_train[50000:], y_train[50000:]\n",
    "x_train, y_train = x_train[:50000], y_train[:50000]\n",
    "print(x_train.shape)"
   ]
  },
  {
   "cell_type": "markdown",
   "metadata": {},
   "source": [
    "Dữ liệu input cho mô hình convolutional neural network là 1 tensor 4 chiều (N, W, H, D), trong bài này là ảnh xám nên W = H = 28, D = 1, N là số lượng ảnh cho mỗi lần training. Do dữ liệu ảnh ở trên có kích thước là (N, 28, 28) tức là (N, W, H) nên rần reshape lại thành kích thước N 28 28 * 1 để giống kích thước mà keras yêu cầu."
   ]
  },
  {
   "cell_type": "code",
   "execution_count": 17,
   "metadata": {},
   "outputs": [],
   "source": [
    "# 3. Reshape lại dữ liệu cho đúng kích thước mà keras yêu cầu\n",
    "x_train = x_train.reshape(x_train.shape[0], 28, 28, 1)\n",
    "x_val = x_val.reshape(x_val.shape[0], 28, 28, 1)\n",
    "x_test = x_test.reshape(x_test.shape[0], 28, 28, 1)"
   ]
  },
  {
   "cell_type": "markdown",
   "metadata": {},
   "source": [
    "Bước này chuyển đổi one-hot encoding label Y của ảnh ví dụ số 5 thành vector [0, 0, 0, 0, 0, 1, 0, 0, 0, 0]"
   ]
  },
  {
   "cell_type": "code",
   "execution_count": 18,
   "metadata": {},
   "outputs": [
    {
     "name": "stdout",
     "output_type": "stream",
     "text": [
      "('Du lieu y ban dau:', 5)\n",
      "('Du lieu y sau khi one-hot encoding', array([0., 0., 0., 0., 0., 1., 0., 0., 0., 0.], dtype=float32))\n"
     ]
    }
   ],
   "source": [
    "# 4. One hot encoding label (Y)\n",
    "print(\"Du lieu y ban dau:\", y_train[0])\n",
    "y_train = np_utils.to_categorical(y_train, 10)\n",
    "y_val = np_utils.to_categorical(y_val, 10)\n",
    "y_test = np_utils.to_categorical(y_test, 10)\n",
    "print(\"Du lieu y sau khi one-hot encoding\", y_train[0])"
   ]
  },
  {
   "cell_type": "markdown",
   "metadata": {},
   "source": [
    "\n",
    "Bước này định nghĩa model:\n",
    "\n",
    "1. Model = Sequential() để nói cho keras là ta sẽ xếp các layer lên nhau để tạo model. Ví dụ input -> CONV -> POOL -> CONV -> POOL -> FLATTEN -> FC -> OUTPUT\n",
    "2. Ở layer đầu tiên cần chỉ rõ input_shape của ảnh, input_shape = (W, H, D), ta dùng ảnh xám kích thước (28,28) nên input_shape = (28, 28, 1)\n",
    "3. Khi thêm Convolutional Layer ta cần chỉ rõ các tham số: K (số lượng layer), kernel size (W, H), hàm activation sử dụng. cấu trúc: model.add(Conv2D(K, (W, H), activation='tên_hàm_activation'))\n",
    "4. Khi thêm Maxpooling Layer cần chỉ rõ size của kernel, model.add(MaxPooling2D(pool_size=(W, H)))\n",
    "5. Bước Flatten chuyển từ tensor sang vector chỉ cần thêm flatten layer.\n",
    "6. Để thêm Fully Connected Layer (FC) cần chỉ rõ số lượng node trong layer và hàm activation sử dụng trong layer, cấu trúc: model.add(Dense(số_lượng_node activation='tên_hàm activation'))"
   ]
  },
  {
   "cell_type": "code",
   "execution_count": 37,
   "metadata": {},
   "outputs": [],
   "source": [
    "model = Sequential()\n",
    "'''\n",
    "model.add(Conv2D(32,(3,3), activation='sigmoid', input_shape=(28,28,1)))\n",
    "model.add(Conv2D(32,(3,3), activation='sigmoid'))\n",
    "model.add(MaxPooling2D(pool_size=(2,2)))\n",
    "model.add(Flatten())\n",
    "model.add(Dense(128, activation='sigmoid'))\n",
    "model.add(Dense(10, activation='softmax'))\n",
    "'''\n",
    "model.add(Conv2D(32,(3,3), activation='sigmoid', input_shape=(28,28,1)))\n",
    "model.add(MaxPooling2D(pool_size=(2,2), strides=2))\n",
    "model.add(Conv2D(64,(3,3), activation='sigmoid'))\n",
    "model.add(MaxPooling2D(pool_size=(2,2), strides=2))\n",
    "model.add(Flatten())\n",
    "model.add(Dense(128, activation='sigmoid'))\n",
    "model.add(Dense(10, activation='softmax'))"
   ]
  },
  {
   "cell_type": "code",
   "execution_count": 38,
   "metadata": {},
   "outputs": [],
   "source": [
    "model.compile(loss='categorical_crossentropy', optimizer='adam', metrics=['accuracy'])"
   ]
  },
  {
   "cell_type": "code",
   "execution_count": null,
   "metadata": {
    "scrolled": false
   },
   "outputs": [
    {
     "name": "stdout",
     "output_type": "stream",
     "text": [
      "Train on 50000 samples, validate on 10000 samples\n",
      "Epoch 1/10\n",
      "50000/50000 [==============================] - 25s 500us/step - loss: 0.3355 - accuracy: 0.9026 - val_loss: 0.0856 - val_accuracy: 0.9764\n",
      "Epoch 2/10\n",
      "50000/50000 [==============================] - 28s 555us/step - loss: 0.0700 - accuracy: 0.9799 - val_loss: 0.0543 - val_accuracy: 0.9846\n",
      "Epoch 3/10\n",
      "50000/50000 [==============================] - 28s 566us/step - loss: 0.0482 - accuracy: 0.9859 - val_loss: 0.0481 - val_accuracy: 0.9856\n",
      "Epoch 4/10\n",
      "50000/50000 [==============================] - 28s 555us/step - loss: 0.0367 - accuracy: 0.9888 - val_loss: 0.0440 - val_accuracy: 0.9868\n",
      "Epoch 5/10\n",
      "50000/50000 [==============================] - 28s 555us/step - loss: 0.0285 - accuracy: 0.9911 - val_loss: 0.0399 - val_accuracy: 0.9882\n",
      "Epoch 6/10\n",
      "50000/50000 [==============================] - 29s 588us/step - loss: 0.0213 - accuracy: 0.9939 - val_loss: 0.0378 - val_accuracy: 0.9879\n",
      "Epoch 7/10\n",
      "50000/50000 [==============================] - 29s 571us/step - loss: 0.0177 - accuracy: 0.9944 - val_loss: 0.0352 - val_accuracy: 0.9899\n",
      "Epoch 8/10\n",
      "45536/50000 [==========================>...] - ETA: 2s - loss: 0.0127 - accuracy: 0.9964"
     ]
    }
   ],
   "source": [
    "H = model.fit(x_train, y_train, validation_data=(x_val,y_val), batch_size=32, epochs=10, verbose=1)"
   ]
  },
  {
   "cell_type": "code",
   "execution_count": 31,
   "metadata": {},
   "outputs": [
    {
     "data": {
      "text/plain": [
       "<matplotlib.legend.Legend at 0x7f57fc2b7f90>"
      ]
     },
     "execution_count": 31,
     "metadata": {},
     "output_type": "execute_result"
    },
    {
     "data": {
      "image/png": "[encoded data removed]",
      "text/plain": [
       "<Figure size 432x288 with 1 Axes>"
      ]
     },
     "metadata": {
      "needs_background": "light"
     },
     "output_type": "display_data"
    }
   ],
   "source": [
    "fig = plt.figure()\n",
    "numOfEpoch = 10\n",
    "plt.plot(np.arange(0,numOfEpoch), H.history['loss'], label='training loss')\n",
    "plt.plot(np.arange(0, numOfEpoch), H.history['val_loss'], label='validation loss')\n",
    "plt.plot(np.arange(0,numOfEpoch), H.history['accuracy'], label='accuracy')\n",
    "plt.plot(np.arange(0,numOfEpoch), H.history['val_accuracy'], label = 'validation accuracy')\n",
    "plt.title('Accuracy and loss')\n",
    "plt.xlabel('Epoch')\n",
    "plt.ylabel('Loss Accuracy')\n",
    "plt.legend()"
   ]
  },
  {
   "cell_type": "code",
   "execution_count": 32,
   "metadata": {},
   "outputs": [
    {
     "data": {
      "text/plain": [
       "[0.040129334129918426, 0.9878000020980835]"
      ]
     },
     "execution_count": 32,
     "metadata": {},
     "output_type": "execute_result"
    }
   ],
   "source": [
    "score = model.evaluate(x_test, y_test, verbose=0)\n",
    "score"
   ]
  },
  {
   "cell_type": "code",
   "execution_count": 36,
   "metadata": {},
   "outputs": [
    {
     "name": "stdout",
     "output_type": "stream",
     "text": [
      "('Gia tri du doan la: ', 7)\n"
     ]
    },
    {
     "data": {
      "image/png": "[encoded data removed]",
      "text/plain": [
       "<Figure size 432x288 with 1 Axes>"
      ]
     },
     "metadata": {
      "needs_background": "light"
     },
     "output_type": "display_data"
    }
   ],
   "source": [
    "plt.imshow(x_test[0].reshape(28,28), cmap='gray')\n",
    "\n",
    "y_predict = model.predict(x_test[0].reshape(1,28,28,1))\n",
    "print('Gia tri du doan la: ', np.argmax(y_predict))"
   ]
  },
  {
   "cell_type": "code",
   "execution_count": null,
   "metadata": {},
   "outputs": [],
   "source": []
  }
 ],
 "metadata": {
  "kernelspec": {
   "display_name": "Python 3",
   "language": "python",
   "name": "python3"
  },
  "language_info": {
   "codemirror_mode": {
    "name": "ipython",
    "version": 2
   },
   "file_extension": ".py",
   "mimetype": "text/x-python",
   "name": "python",
   "nbconvert_exporter": "python",
   "pygments_lexer": "ipython2",
   "version": "2.7.17"
  }
 },
 "nbformat": 4,
 "nbformat_minor": 2
}
